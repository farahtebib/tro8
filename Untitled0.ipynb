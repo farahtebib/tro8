{
  "nbformat": 4,
  "nbformat_minor": 0,
  "metadata": {
    "colab": {
      "name": "Untitled0.ipynb",
      "provenance": []
    },
    "kernelspec": {
      "name": "python3",
      "display_name": "Python 3"
    },
    "language_info": {
      "name": "python"
    }
  },
  "cells": [
    {
      "cell_type": "code",
      "metadata": {
        "colab": {
          "base_uri": "https://localhost:8080/"
        },
        "id": "hE4ue5TeV4mZ",
        "outputId": "75edbc33-9bd6-40e9-f4cc-5ce8b0c6e757"
      },
      "source": [
        "print(\"Welcome to python world! Let's start coding\")"
      ],
      "execution_count": 1,
      "outputs": [
        {
          "output_type": "stream",
          "text": [
            "Welcome to python world! Let's start coding\n"
          ],
          "name": "stdout"
        }
      ]
    }
  ]
}